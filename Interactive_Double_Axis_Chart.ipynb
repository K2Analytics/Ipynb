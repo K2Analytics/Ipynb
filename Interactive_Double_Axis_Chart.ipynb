{
 "cells": [
  {
   "cell_type": "markdown",
   "metadata": {},
   "source": [
    "# Interactive Double Axis Chart for Visualization and Pattern Detection\n",
    "### (in Logistic Regression Model Development)"
   ]
  },
  {
   "cell_type": "markdown",
   "metadata": {},
   "source": [
    "\n",
    "- @author: Rajesh Jakhotia\n",
    "- @company: K2 Analytics Finishing School Pvt. Ltd.\n",
    "- @website: k2analytics.co.in\n",
    "- @email: ar.jakhotia@k2analytics.co.in\n",
    "- @blog: https://k2analytics.co.in/blog\n"
   ]
  },
  {
   "cell_type": "code",
   "execution_count": 1,
   "metadata": {},
   "outputs": [],
   "source": [
    "##Import the packages\n",
    "import pandas as pd\n",
    "import os\n"
   ]
  },
  {
   "cell_type": "code",
   "execution_count": 2,
   "metadata": {},
   "outputs": [],
   "source": [
    "os.chdir(\"d:/K2Analytics/Datafile\") \n",
    "LR_DF = pd.read_csv(\"LR_DF.csv\")"
   ]
  },
  {
   "cell_type": "code",
   "execution_count": 3,
   "metadata": {},
   "outputs": [
    {
     "data": {
      "text/plain": [
       "(20000, 10)"
      ]
     },
     "execution_count": 3,
     "metadata": {},
     "output_type": "execute_result"
    }
   ],
   "source": [
    "LR_DF.shape"
   ]
  },
  {
   "cell_type": "code",
   "execution_count": 4,
   "metadata": {},
   "outputs": [
    {
     "data": {
      "text/html": [
       "<div>\n",
       "<style scoped>\n",
       "    .dataframe tbody tr th:only-of-type {\n",
       "        vertical-align: middle;\n",
       "    }\n",
       "\n",
       "    .dataframe tbody tr th {\n",
       "        vertical-align: top;\n",
       "    }\n",
       "\n",
       "    .dataframe thead th {\n",
       "        text-align: right;\n",
       "    }\n",
       "</style>\n",
       "<table border=\"1\" class=\"dataframe\">\n",
       "  <thead>\n",
       "    <tr style=\"text-align: right;\">\n",
       "      <th></th>\n",
       "      <th>Cust_ID</th>\n",
       "      <th>Target</th>\n",
       "      <th>Age</th>\n",
       "      <th>Gender</th>\n",
       "      <th>Balance</th>\n",
       "      <th>Occupation</th>\n",
       "      <th>No_OF_CR_TXNS</th>\n",
       "      <th>AGE_BKT</th>\n",
       "      <th>SCR</th>\n",
       "      <th>Holding_Period</th>\n",
       "    </tr>\n",
       "  </thead>\n",
       "  <tbody>\n",
       "    <tr>\n",
       "      <th>0</th>\n",
       "      <td>C1</td>\n",
       "      <td>0</td>\n",
       "      <td>30</td>\n",
       "      <td>M</td>\n",
       "      <td>160378.60</td>\n",
       "      <td>SAL</td>\n",
       "      <td>2</td>\n",
       "      <td>26-30</td>\n",
       "      <td>826</td>\n",
       "      <td>9.0</td>\n",
       "    </tr>\n",
       "    <tr>\n",
       "      <th>1</th>\n",
       "      <td>C2</td>\n",
       "      <td>0</td>\n",
       "      <td>43</td>\n",
       "      <td>M</td>\n",
       "      <td>26275.55</td>\n",
       "      <td>PROF</td>\n",
       "      <td>23</td>\n",
       "      <td>41-45</td>\n",
       "      <td>270</td>\n",
       "      <td>23.0</td>\n",
       "    </tr>\n",
       "    <tr>\n",
       "      <th>2</th>\n",
       "      <td>C3</td>\n",
       "      <td>0</td>\n",
       "      <td>53</td>\n",
       "      <td>M</td>\n",
       "      <td>33616.47</td>\n",
       "      <td>SAL</td>\n",
       "      <td>45</td>\n",
       "      <td>&gt;50</td>\n",
       "      <td>341</td>\n",
       "      <td>6.0</td>\n",
       "    </tr>\n",
       "    <tr>\n",
       "      <th>3</th>\n",
       "      <td>C4</td>\n",
       "      <td>0</td>\n",
       "      <td>45</td>\n",
       "      <td>M</td>\n",
       "      <td>1881.37</td>\n",
       "      <td>PROF</td>\n",
       "      <td>3</td>\n",
       "      <td>41-45</td>\n",
       "      <td>284</td>\n",
       "      <td>16.0</td>\n",
       "    </tr>\n",
       "    <tr>\n",
       "      <th>4</th>\n",
       "      <td>C5</td>\n",
       "      <td>0</td>\n",
       "      <td>37</td>\n",
       "      <td>M</td>\n",
       "      <td>3274.37</td>\n",
       "      <td>PROF</td>\n",
       "      <td>33</td>\n",
       "      <td>36-40</td>\n",
       "      <td>533</td>\n",
       "      <td>15.0</td>\n",
       "    </tr>\n",
       "  </tbody>\n",
       "</table>\n",
       "</div>"
      ],
      "text/plain": [
       "  Cust_ID  Target  Age Gender    Balance Occupation  No_OF_CR_TXNS AGE_BKT  \\\n",
       "0      C1       0   30      M  160378.60        SAL              2   26-30   \n",
       "1      C2       0   43      M   26275.55       PROF             23   41-45   \n",
       "2      C3       0   53      M   33616.47        SAL             45     >50   \n",
       "3      C4       0   45      M    1881.37       PROF              3   41-45   \n",
       "4      C5       0   37      M    3274.37       PROF             33   36-40   \n",
       "\n",
       "   SCR  Holding_Period  \n",
       "0  826             9.0  \n",
       "1  270            23.0  \n",
       "2  341             6.0  \n",
       "3  284            16.0  \n",
       "4  533            15.0  "
      ]
     },
     "execution_count": 4,
     "metadata": {},
     "output_type": "execute_result"
    }
   ],
   "source": [
    "LR_DF.head()"
   ]
  },
  {
   "cell_type": "markdown",
   "metadata": {},
   "source": [
    "## Visualization and Patter Detection Code"
   ]
  },
  {
   "cell_type": "code",
   "execution_count": 5,
   "metadata": {},
   "outputs": [],
   "source": [
    "def  double_axischart(var,tar,fill_na=True,bins=10):\n",
    "    yaxis_label1 = \"# Customers\"\n",
    "    yaxis_label2 = \"Resp. Rate %\"\n",
    "    if (LR_DF[var].dtype.kind in 'biufc'):\n",
    "        import numpy as np\n",
    "        LR_DF['decile']=pd.qcut(LR_DF[var].rank(method='first'), bins, labels=False)\n",
    "        if (fill_na== True):\n",
    "                LR_DF['decile'] = LR_DF['decile'].fillna(value=\"Missing\")\n",
    "        ab=LR_DF.groupby('decile').apply(lambda x: pd.Series([\n",
    "        np.min(x[var]),\n",
    "        np.max(x[var]),\n",
    "        np.size(x[var]),\n",
    "        np.sum(x[tar]),\n",
    "        ],\n",
    "        index=([\"min_val\",\"max_val\",\"total\",1])\n",
    "        )).reset_index()\n",
    "        \n",
    "        ab[var] = ab['min_val'].astype('str')+\"-\"+ab['max_val'].astype('str')\n",
    "        res = ab[[var,\"total\",1]].copy()\n",
    "        res.set_index(var, inplace=True)\n",
    "        del LR_DF['decile']\n",
    "    else:\n",
    "        ab = LR_DF.groupby([var,tar]).size().reset_index()\n",
    "        res = ab.pivot(index=var, columns=tar, values=0)\n",
    "        res['total'] = res.sum(axis=1)\n",
    "        if(fill_na==True):\n",
    "            ab = LR_DF.fillna('Nan').groupby([var,tar]).size().reset_index()\n",
    "            res = ab.pivot(index=var, columns=tar, values=0)\n",
    "            res['total'] = res.sum(axis=1)\n",
    "    res['prob'] = round(res[1]*100/res['total'],2)\n",
    "    \n",
    "    import matplotlib.pyplot as plt\n",
    "    #plt.figure(figsize = (9,5))\n",
    "    plt.rcParams['figure.figsize']=[11,6]\n",
    "    ax = res[['total']].plot(kind='bar', \n",
    "                             use_index=True, label = yaxis_label1)\n",
    "    plt.suptitle(var + \" vs. Resp. Rate\" , fontsize=20)\n",
    "    plt.xlabel(var, fontsize=18)\n",
    "    plt.ylabel(yaxis_label1, fontsize=16)\n",
    "    L=plt.legend(bbox_to_anchor=(1.04,1), loc=\"upper left\")\n",
    "    L.get_texts()[0].set_text(yaxis_label1)\n",
    "    ax2 = ax.twinx()\n",
    "    ax2.plot(res['prob'], linestyle='-', \n",
    "             marker='o', linewidth=2.0, \n",
    "             color=\"#ff8400\", label = yaxis_label2)\n",
    "    for i,j in res.prob.items():\n",
    "        ax2.annotate(str(j)+'%', xy=(i, j))\n",
    "    plt.ylabel(yaxis_label2, fontsize=16)\n",
    "    L1=plt.legend(bbox_to_anchor=(1.04,0.9), loc=\"upper left\")\n",
    "    L1.get_texts()[0].set_text(yaxis_label2)\n",
    "\n",
    "    return plt.show()\n"
   ]
  },
  {
   "cell_type": "code",
   "execution_count": 6,
   "metadata": {},
   "outputs": [],
   "source": [
    "from ipywidgets import widgets, interactive\n",
    "#Creating Widget\n",
    "Variable = widgets.Dropdown(\n",
    "    options=list(LR_DF.loc[:, 'Age':'Holding_Period'].columns),\n",
    "    value='Age',\n",
    "    description='Variable',\n",
    ")\n"
   ]
  },
  {
   "cell_type": "code",
   "execution_count": 7,
   "metadata": {},
   "outputs": [
    {
     "data": {
      "application/vnd.jupyter.widget-view+json": {
       "model_id": "c52f5ef75c5f4077aaa7cf8afa24517d",
       "version_major": 2,
       "version_minor": 0
      },
      "text/plain": [
       "interactive(children=(Dropdown(description='Variable', options=('Age', 'Gender', 'Balance', 'Occupation', 'No_…"
      ]
     },
     "metadata": {},
     "output_type": "display_data"
    }
   ],
   "source": [
    "#Plotting\n",
    "interactive(double_axischart, var=Variable, tar=\"Target\")"
   ]
  },
  {
   "cell_type": "markdown",
   "metadata": {},
   "source": [
    "### check out my blogs at \n",
    "https://k2analytics.co.in/blog"
   ]
  }
 ],
 "metadata": {
  "anaconda-cloud": {},
  "kernelspec": {
   "display_name": "Python 3",
   "language": "python",
   "name": "python3"
  },
  "language_info": {
   "codemirror_mode": {
    "name": "ipython",
    "version": 3
   },
   "file_extension": ".py",
   "mimetype": "text/x-python",
   "name": "python",
   "nbconvert_exporter": "python",
   "pygments_lexer": "ipython3",
   "version": "3.7.3"
  }
 },
 "nbformat": 4,
 "nbformat_minor": 1
}
